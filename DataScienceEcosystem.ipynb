{
 "cells": [
  {
   "cell_type": "markdown",
   "id": "15ea6c87-131e-4b77-9bc5-8711cbd3f124",
   "metadata": {},
   "source": [
    "# Data Science Tools and Ecosystem"
   ]
  },
  {
   "cell_type": "markdown",
   "id": "005bd6a9-6521-4080-ba62-4652472c09a7",
   "metadata": {},
   "source": [
    "In this notebook, Data Science Tools and Ecosystem are summarized."
   ]
  },
  {
   "cell_type": "markdown",
   "id": "1915e4eb-35ea-40a5-8e9c-8ea3cfa78c1d",
   "metadata": {},
   "source": [
    "__Objectives:__\n",
    "* SQL\n",
    "* R\n",
    "* Python"
   ]
  },
  {
   "cell_type": "code",
   "execution_count": null,
   "id": "e2fd86d2-5374-4942-88aa-ecb84a71baae",
   "metadata": {},
   "outputs": [],
   "source": []
  },
  {
   "cell_type": "markdown",
   "id": "5a898812-b804-421b-87af-b9c80be7e9d4",
   "metadata": {},
   "source": [
    "Some of the popular languages that Data Scientists use are:\n",
    "1. SQL\n",
    "2. Python\n",
    "3. R"
   ]
  },
  {
   "cell_type": "markdown",
   "id": "aeeea062-4bef-4c12-95d6-d05dffe58fae",
   "metadata": {},
   "source": [
    "Some of the commonly used libraries used by Data Scientists include:\n",
    "1. pandas\n",
    "2. Numpy\n",
    "3. scikit-learn"
   ]
  },
  {
   "cell_type": "markdown",
   "id": "a4bdefe9-d49e-45e1-9b04-4729508170d6",
   "metadata": {},
   "source": [
    "| Data Science Tools |\n",
    "| ----------------------|\n",
    "| Python             |\n",
    "| R                  |\n",
    "| SQL                |"
   ]
  },
  {
   "cell_type": "markdown",
   "id": "6478ddec-32d0-4c77-8f46-cbdfaf936fd1",
   "metadata": {},
   "source": [
    "### Below are a few examples of evaluating arithmetic expressions in Python"
   ]
  },
  {
   "cell_type": "code",
   "execution_count": 1,
   "id": "db315a4e-1159-482d-a8ac-eed6447c70bf",
   "metadata": {},
   "outputs": [
    {
     "data": {
      "text/plain": [
       "17"
      ]
     },
     "execution_count": 1,
     "metadata": {},
     "output_type": "execute_result"
    }
   ],
   "source": [
    "#This a simple arithmetic expression to mutiply then add integers.\n",
    "(3*4)+5"
   ]
  },
  {
   "cell_type": "code",
   "execution_count": 2,
   "id": "ec92c18e-d9fc-40ca-9ca5-604826ad306f",
   "metadata": {},
   "outputs": [
    {
     "data": {
      "text/plain": [
       "3.3333333333333335"
      ]
     },
     "execution_count": 2,
     "metadata": {},
     "output_type": "execute_result"
    }
   ],
   "source": [
    "#This will convert 200 minutes to hours by diving by 60.\n",
    "200/60"
   ]
  },
  {
   "cell_type": "markdown",
   "id": "6fa458c9-dbb9-4576-a88f-371d5b607d21",
   "metadata": {},
   "source": [
    "## Author\n",
    "Mohammad"
   ]
  },
  {
   "cell_type": "code",
   "execution_count": null,
   "id": "4e2ddf06-ee78-45bb-b4c8-9d61961fe082",
   "metadata": {},
   "outputs": [],
   "source": []
  },
  {
   "cell_type": "code",
   "execution_count": null,
   "id": "dcc995f0-93bc-4465-b0e1-ca388b1ceb09",
   "metadata": {},
   "outputs": [],
   "source": []
  },
  {
   "cell_type": "code",
   "execution_count": null,
   "id": "a7de1019-d416-430c-9f33-019ca0e4f425",
   "metadata": {},
   "outputs": [],
   "source": []
  },
  {
   "cell_type": "markdown",
   "id": "e498ac60-b838-483f-8c1c-ab85be4330f7",
   "metadata": {},
   "source": []
  },
  {
   "cell_type": "code",
   "execution_count": null,
   "id": "d3c90ef5-46d6-4dcd-9d45-047757888962",
   "metadata": {},
   "outputs": [],
   "source": []
  },
  {
   "cell_type": "code",
   "execution_count": null,
   "id": "4d5dd141-c488-46e4-be1a-109b6fcbd1e8",
   "metadata": {},
   "outputs": [],
   "source": []
  },
  {
   "cell_type": "code",
   "execution_count": null,
   "id": "0a762053-718a-4cfc-b8e1-a70f10ad4bbb",
   "metadata": {},
   "outputs": [],
   "source": []
  },
  {
   "cell_type": "code",
   "execution_count": null,
   "id": "a38ecd5a-069a-447c-928c-4a0eedeb3399",
   "metadata": {},
   "outputs": [],
   "source": []
  }
 ],
 "metadata": {
  "kernelspec": {
   "display_name": "Python [conda env:base] *",
   "language": "python",
   "name": "conda-base-py"
  },
  "language_info": {
   "codemirror_mode": {
    "name": "ipython",
    "version": 3
   },
   "file_extension": ".py",
   "mimetype": "text/x-python",
   "name": "python",
   "nbconvert_exporter": "python",
   "pygments_lexer": "ipython3",
   "version": "3.13.5"
  }
 },
 "nbformat": 4,
 "nbformat_minor": 5
}
